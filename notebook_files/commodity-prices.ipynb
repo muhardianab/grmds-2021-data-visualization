{
 "cells": [
  {
   "cell_type": "code",
   "execution_count": 1,
   "id": "patient-great",
   "metadata": {},
   "outputs": [
    {
     "name": "stdout",
     "output_type": "stream",
     "text": [
      "Done Import\n"
     ]
    }
   ],
   "source": [
    "import pandas as pd\n",
    "import numpy as np\n",
    "import matplotlib as mlp\n",
    "import matplotlib.pyplot as plt\n",
    "%matplotlib inline\n",
    "import seaborn as sns\n",
    "\n",
    "print(\"Done Import\")"
   ]
  },
  {
   "cell_type": "code",
   "execution_count": 3,
   "id": "cathedral-paris",
   "metadata": {},
   "outputs": [
    {
     "data": {
      "text/html": [
       "<div>\n",
       "<style scoped>\n",
       "    .dataframe tbody tr th:only-of-type {\n",
       "        vertical-align: middle;\n",
       "    }\n",
       "\n",
       "    .dataframe tbody tr th {\n",
       "        vertical-align: top;\n",
       "    }\n",
       "\n",
       "    .dataframe thead th {\n",
       "        text-align: right;\n",
       "    }\n",
       "</style>\n",
       "<table border=\"1\" class=\"dataframe\">\n",
       "  <thead>\n",
       "    <tr style=\"text-align: right;\">\n",
       "      <th></th>\n",
       "      <th>Value</th>\n",
       "      <th>Date</th>\n",
       "      <th>Sub-Sector</th>\n",
       "      <th>Super Region</th>\n",
       "      <th>Commodity And Exchange</th>\n",
       "      <th>Frequency</th>\n",
       "      <th>Source</th>\n",
       "      <th>Indicator</th>\n",
       "    </tr>\n",
       "  </thead>\n",
       "  <tbody>\n",
       "    <tr>\n",
       "      <th>0</th>\n",
       "      <td>393834.0</td>\n",
       "      <td>2020-08-07</td>\n",
       "      <td>COMMODITY PRICES</td>\n",
       "      <td>GLOBAL DATA</td>\n",
       "      <td>NYMEX CRUDE OIL FUTURES</td>\n",
       "      <td>DAILY</td>\n",
       "      <td>COMMODITY EXCHANGE</td>\n",
       "      <td>VOLUME</td>\n",
       "    </tr>\n",
       "    <tr>\n",
       "      <th>1</th>\n",
       "      <td>865736.0</td>\n",
       "      <td>2018-03-07</td>\n",
       "      <td>COMMODITY PRICES</td>\n",
       "      <td>GLOBAL DATA</td>\n",
       "      <td>NYMEX CRUDE OIL FUTURES</td>\n",
       "      <td>DAILY</td>\n",
       "      <td>COMMODITY EXCHANGE</td>\n",
       "      <td>VOLUME</td>\n",
       "    </tr>\n",
       "    <tr>\n",
       "      <th>...</th>\n",
       "      <td>...</td>\n",
       "      <td>...</td>\n",
       "      <td>...</td>\n",
       "      <td>...</td>\n",
       "      <td>...</td>\n",
       "      <td>...</td>\n",
       "      <td>...</td>\n",
       "      <td>...</td>\n",
       "    </tr>\n",
       "    <tr>\n",
       "      <th>16998</th>\n",
       "      <td>444816.0</td>\n",
       "      <td>2019-07-09</td>\n",
       "      <td>COMMODITY PRICES</td>\n",
       "      <td>GLOBAL DATA</td>\n",
       "      <td>ICE BRENT CRUDE OIL FUTURES</td>\n",
       "      <td>DAILY</td>\n",
       "      <td>COMMODITY EXCHANGE</td>\n",
       "      <td>PREV# DAY OPEN INTEREST</td>\n",
       "    </tr>\n",
       "    <tr>\n",
       "      <th>16999</th>\n",
       "      <td>535856.0</td>\n",
       "      <td>2017-07-31</td>\n",
       "      <td>COMMODITY PRICES</td>\n",
       "      <td>GLOBAL DATA</td>\n",
       "      <td>ICE BRENT CRUDE OIL FUTURES</td>\n",
       "      <td>DAILY</td>\n",
       "      <td>COMMODITY EXCHANGE</td>\n",
       "      <td>PREV# DAY OPEN INTEREST</td>\n",
       "    </tr>\n",
       "  </tbody>\n",
       "</table>\n",
       "<p>17000 rows × 8 columns</p>\n",
       "</div>"
      ],
      "text/plain": [
       "          Value        Date        Sub-Sector Super Region  \\\n",
       "0      393834.0  2020-08-07  COMMODITY PRICES  GLOBAL DATA   \n",
       "1      865736.0  2018-03-07  COMMODITY PRICES  GLOBAL DATA   \n",
       "...         ...         ...               ...          ...   \n",
       "16998  444816.0  2019-07-09  COMMODITY PRICES  GLOBAL DATA   \n",
       "16999  535856.0  2017-07-31  COMMODITY PRICES  GLOBAL DATA   \n",
       "\n",
       "            Commodity And Exchange Frequency              Source  \\\n",
       "0          NYMEX CRUDE OIL FUTURES     DAILY  COMMODITY EXCHANGE   \n",
       "1          NYMEX CRUDE OIL FUTURES     DAILY  COMMODITY EXCHANGE   \n",
       "...                            ...       ...                 ...   \n",
       "16998  ICE BRENT CRUDE OIL FUTURES     DAILY  COMMODITY EXCHANGE   \n",
       "16999  ICE BRENT CRUDE OIL FUTURES     DAILY  COMMODITY EXCHANGE   \n",
       "\n",
       "                     Indicator  \n",
       "0                       VOLUME  \n",
       "1                       VOLUME  \n",
       "...                        ...  \n",
       "16998  PREV# DAY OPEN INTEREST  \n",
       "16999  PREV# DAY OPEN INTEREST  \n",
       "\n",
       "[17000 rows x 8 columns]"
      ]
     },
     "execution_count": 3,
     "metadata": {},
     "output_type": "execute_result"
    }
   ],
   "source": [
    "pd.set_option('display.max_rows', 5)\n",
    "pd.set_option('display.max_columns', None)\n",
    "\n",
    "compri = pd.read_excel('commodity-prices.xlsx')\n",
    "compri"
   ]
  },
  {
   "cell_type": "code",
   "execution_count": null,
   "id": "cognitive-wrong",
   "metadata": {},
   "outputs": [],
   "source": [
    "nymex = compri.groupby([''])"
   ]
  }
 ],
 "metadata": {
  "kernelspec": {
   "display_name": "Python 3",
   "language": "python",
   "name": "python3"
  },
  "language_info": {
   "codemirror_mode": {
    "name": "ipython",
    "version": 3
   },
   "file_extension": ".py",
   "mimetype": "text/x-python",
   "name": "python",
   "nbconvert_exporter": "python",
   "pygments_lexer": "ipython3",
   "version": "3.9.1"
  }
 },
 "nbformat": 4,
 "nbformat_minor": 5
}
